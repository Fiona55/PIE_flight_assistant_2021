{
 "cells": [
  {
   "cell_type": "markdown",
   "metadata": {},
   "source": [
    "# Comparison performances DBMS / Ontology"
   ]
  },
  {
   "cell_type": "markdown",
   "metadata": {},
   "source": [
    "## SPARQL"
   ]
  },
  {
   "cell_type": "code",
   "execution_count": 1,
   "metadata": {},
   "outputs": [],
   "source": [
    "import owlready2 as owl\n",
    "filename_onto_individuals = \"../../src/ontology/final-archi-individuals.owl\"\n",
    "onto_individuals = owl.get_ontology(filename_onto_individuals).load()"
   ]
  },
  {
   "cell_type": "code",
   "execution_count": 3,
   "metadata": {},
   "outputs": [],
   "source": [
    "def test_sparql():\n",
    "    s, n, w, e = 42.69998105639557, 44.49946827276767, 0.20684058124504337, 2.6917189331881017\n",
    "\n",
    "    near_airports = list(owl.default_world.sparql(\n",
    "        f\"\"\"\n",
    "            PREFIX pie:<http://www.semanticweb.org/clement/ontologies/2020/1/final-archi#>\n",
    "            SELECT ?name ?iata ?icao ?latitude ?longitude ?altitude ?country\n",
    "            WHERE {{\n",
    "                ?Airport pie:AirportName ?name .\n",
    "                ?Airport pie:AirportIATA ?iata .\n",
    "                ?Airport pie:AirportICAOCode ?icao .\n",
    "                ?Airport pie:AirportGPSLatitude ?latitude .\n",
    "                ?Airport pie:AirportGPSLongitude ?longitude .\n",
    "                ?Airport pie:AirportAltitude ?altitude .\n",
    "                ?Airport pie:AirportCountry ?country .\n",
    "                FILTER (?longitude > {w} && ?longitude < {e} \n",
    "                    &&  ?latitude > {s} && ?latitude < {n})\n",
    "\n",
    "            }}\n",
    "        \"\"\"))\n",
    "    fields = ['name', 'iata', 'icao', 'latitude', 'longitude', 'altitude', 'country']\n",
    "    dict_airports_onto = [dict(zip(fields, airport_tuple)) for airport_tuple in near_airports]\n",
    "    return dict_airports_onto"
   ]
  },
  {
   "cell_type": "code",
   "execution_count": 13,
   "metadata": {},
   "outputs": [
    {
     "data": {
      "text/plain": [
       "[{'name': 'Carcassonne Airport',\n",
       "  'iata': 'CCF',\n",
       "  'icao': 'LFMK',\n",
       "  'latitude': 43.215809,\n",
       "  'longitude': 2.308544,\n",
       "  'altitude': 433,\n",
       "  'country': 'France'},\n",
       " {'name': 'Castres Mazamet Airport',\n",
       "  'iata': 'DCM',\n",
       "  'icao': 'LFCK',\n",
       "  'latitude': 43.554958,\n",
       "  'longitude': 2.290592,\n",
       "  'altitude': 787,\n",
       "  'country': 'France'},\n",
       " {'name': 'Toulouse Blagnac Airport',\n",
       "  'iata': 'TLS',\n",
       "  'icao': 'LFBO',\n",
       "  'latitude': 43.634998,\n",
       "  'longitude': 1.367778,\n",
       "  'altitude': 499,\n",
       "  'country': 'France'},\n",
       " {'name': 'Albi Le Sequestre Airport',\n",
       "  'iata': 'LBI',\n",
       "  'icao': 'LFCI',\n",
       "  'latitude': 43.913269,\n",
       "  'longitude': 2.11675,\n",
       "  'altitude': 564,\n",
       "  'country': 'France'},\n",
       " {'name': 'Agen La Garenne Airport',\n",
       "  'iata': 'AGF',\n",
       "  'icao': 'LFBA',\n",
       "  'latitude': 44.174709,\n",
       "  'longitude': 0.590619,\n",
       "  'altitude': 204,\n",
       "  'country': 'France'},\n",
       " {'name': 'Rodez Marcillac Airport',\n",
       "  'iata': 'RDZ',\n",
       "  'icao': 'LFCR',\n",
       "  'latitude': 44.407501,\n",
       "  'longitude': 2.483333,\n",
       "  'altitude': 1910,\n",
       "  'country': 'France'}]"
      ]
     },
     "execution_count": 13,
     "metadata": {},
     "output_type": "execute_result"
    }
   ],
   "source": [
    "test_sparql()"
   ]
  },
  {
   "cell_type": "markdown",
   "metadata": {},
   "source": [
    "## Pandas"
   ]
  },
  {
   "cell_type": "code",
   "execution_count": 11,
   "metadata": {},
   "outputs": [],
   "source": [
    "import pandas as pd\n",
    "\n",
    "all_airports = list(owl.default_world.sparql(\n",
    "    f\"\"\"\n",
    "        PREFIX pie:<http://www.semanticweb.org/clement/ontologies/2020/1/final-archi#>\n",
    "        SELECT ?name ?iata ?icao ?latitude ?longitude ?altitude ?country\n",
    "        WHERE {{\n",
    "            ?Airport pie:AirportName ?name .\n",
    "            ?Airport pie:AirportIATA ?iata .\n",
    "            ?Airport pie:AirportICAOCode ?icao .\n",
    "            ?Airport pie:AirportGPSLatitude ?latitude .\n",
    "            ?Airport pie:AirportGPSLongitude ?longitude .\n",
    "            ?Airport pie:AirportAltitude ?altitude .\n",
    "            ?Airport pie:AirportCountry ?country .\n",
    "        }}\n",
    "    \"\"\"))\n",
    "dict_all_airports = [dict(zip(fields, airport_tuple)) for airport_tuple in all_airports]\n",
    "df_all_airports = pd.DataFrame(dict_all_airports)"
   ]
  },
  {
   "cell_type": "code",
   "execution_count": 23,
   "metadata": {},
   "outputs": [
    {
     "data": {
      "text/plain": [
       "[{'name': 'Agen La Garenne Airport',\n",
       "  'iata': 'AGF',\n",
       "  'icao': 'LFBA',\n",
       "  'latitude': 44.174709,\n",
       "  'longitude': 0.590619,\n",
       "  'altitude': 204,\n",
       "  'country': 'France'},\n",
       " {'name': 'Albi Le Sequestre Airport',\n",
       "  'iata': 'LBI',\n",
       "  'icao': 'LFCI',\n",
       "  'latitude': 43.913269,\n",
       "  'longitude': 2.11675,\n",
       "  'altitude': 564,\n",
       "  'country': 'France'},\n",
       " {'name': 'Carcassonne Airport',\n",
       "  'iata': 'CCF',\n",
       "  'icao': 'LFMK',\n",
       "  'latitude': 43.215809,\n",
       "  'longitude': 2.308544,\n",
       "  'altitude': 433,\n",
       "  'country': 'France'},\n",
       " {'name': 'Castres Mazamet Airport',\n",
       "  'iata': 'DCM',\n",
       "  'icao': 'LFCK',\n",
       "  'latitude': 43.554958,\n",
       "  'longitude': 2.290592,\n",
       "  'altitude': 787,\n",
       "  'country': 'France'},\n",
       " {'name': 'Rodez Marcillac Airport',\n",
       "  'iata': 'RDZ',\n",
       "  'icao': 'LFCR',\n",
       "  'latitude': 44.407501,\n",
       "  'longitude': 2.483333,\n",
       "  'altitude': 1910,\n",
       "  'country': 'France'},\n",
       " {'name': 'Toulouse Blagnac Airport',\n",
       "  'iata': 'TLS',\n",
       "  'icao': 'LFBO',\n",
       "  'latitude': 43.634998,\n",
       "  'longitude': 1.367778,\n",
       "  'altitude': 499,\n",
       "  'country': 'France'}]"
      ]
     },
     "execution_count": 23,
     "metadata": {},
     "output_type": "execute_result"
    }
   ],
   "source": [
    "def test_pandas():\n",
    "    s, n, w, e = 42.69998105639557, 44.49946827276767, 0.20684058124504337, 2.6917189331881017\n",
    "    df_near_airpors = df_all_airports.loc[df_all_airports['longitude'].between(w, e) & df_all_airports['latitude'].between(s, n)]\n",
    "    return df_near_airpors.to_dict('records')\n",
    "\n",
    "test_pandas()"
   ]
  },
  {
   "cell_type": "markdown",
   "metadata": {},
   "source": [
    "## Performance"
   ]
  },
  {
   "cell_type": "code",
   "execution_count": 25,
   "metadata": {},
   "outputs": [
    {
     "name": "stdout",
     "output_type": "stream",
     "text": [
      "170 ms ± 22.3 ms per loop (mean ± std. dev. of 7 runs, 10 loops each)\n"
     ]
    }
   ],
   "source": [
    "%%timeit\n",
    "test_sparql()"
   ]
  },
  {
   "cell_type": "code",
   "execution_count": 26,
   "metadata": {},
   "outputs": [
    {
     "name": "stdout",
     "output_type": "stream",
     "text": [
      "2.06 ms ± 60.2 µs per loop (mean ± std. dev. of 7 runs, 100 loops each)\n"
     ]
    }
   ],
   "source": [
    "%%timeit\n",
    "test_pandas()"
   ]
  }
 ],
 "metadata": {
  "interpreter": {
   "hash": "1baa965d5efe3ac65b79dfc60c0d706280b1da80fedb7760faf2759126c4f253"
  },
  "kernelspec": {
   "display_name": "Python 3.8.5 64-bit",
   "language": "python",
   "name": "python3"
  },
  "language_info": {
   "codemirror_mode": {
    "name": "ipython",
    "version": 3
   },
   "file_extension": ".py",
   "mimetype": "text/x-python",
   "name": "python",
   "nbconvert_exporter": "python",
   "pygments_lexer": "ipython3",
   "version": "3.8.5"
  },
  "orig_nbformat": 4
 },
 "nbformat": 4,
 "nbformat_minor": 2
}
