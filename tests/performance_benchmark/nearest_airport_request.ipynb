{
 "cells": [
  {
   "cell_type": "markdown",
   "metadata": {},
   "source": [
    "# Nearest airport request performance"
   ]
  },
  {
   "cell_type": "code",
   "execution_count": 1,
   "metadata": {},
   "outputs": [],
   "source": [
    "import owlready2 as owl\n",
    "import pandas as pd\n",
    "import numpy as np"
   ]
  },
  {
   "cell_type": "code",
   "execution_count": 2,
   "metadata": {},
   "outputs": [],
   "source": [
    "onto_filename = \"../../src/ontology/final-archi-individuals.owl\"\n",
    "onto = owl.get_ontology(onto_filename).load()"
   ]
  },
  {
   "cell_type": "markdown",
   "metadata": {},
   "source": [
    "## Full SPARQL"
   ]
  },
  {
   "cell_type": "code",
   "execution_count": 3,
   "metadata": {},
   "outputs": [],
   "source": [
    "def test_full_sparql():\n",
    "    # Returns (Name, ICAO, L1-distance) (no complex functions in SPARQL...)\n",
    "    lat, lng = 43.56759421172615, 1.458735401391755\n",
    "    l = list(owl.default_world.sparql(\n",
    "        f\"\"\"\n",
    "            PREFIX pie:<http://www.semanticweb.org/clement/ontologies/2020/1/final-archi#>\n",
    "            SELECT ?name ?ICAO ?latitude ?longitude ?l1_dist\n",
    "            WHERE {{\n",
    "                BIND({lat} AS ?plane_lat)\n",
    "                BIND({lng} AS ?plane_lng)\n",
    "                BIND(ABS(?latitude-?plane_lat) AS ?diff_lat) .\n",
    "                BIND(ABS(?longitude-?plane_lng) AS ?diff_lng) .\n",
    "                BIND((?diff_lat+?diff_lng) AS ?l1_dist) .\n",
    "                ?Airport pie:AirportICAOCode ?ICAO .\n",
    "                ?Airport pie:AirportName ?name .\n",
    "                ?Airport pie:AirportGPSLatitude ?latitude .\n",
    "                ?Airport pie:AirportGPSLongitude ?longitude .\n",
    "            }}\n",
    "            ORDER BY ?l1_dist LIMIT 1\n",
    "        \"\"\"))\n",
    "    return tuple(l[0])"
   ]
  },
  {
   "cell_type": "code",
   "execution_count": 4,
   "metadata": {},
   "outputs": [
    {
     "data": {
      "text/plain": [
       "('Toulouse Blagnac Airport', 'LFBO', 43.634998, 1.367778, 0.15836118966560542)"
      ]
     },
     "execution_count": 4,
     "metadata": {},
     "output_type": "execute_result"
    }
   ],
   "source": [
    "test_full_sparql()"
   ]
  },
  {
   "cell_type": "markdown",
   "metadata": {},
   "source": [
    "## With Pandas"
   ]
  },
  {
   "cell_type": "code",
   "execution_count": 13,
   "metadata": {},
   "outputs": [],
   "source": [
    "def coord_to_dist(cur_lat, cur_long, dest_lat, dest_long):\n",
    "    cur_lat = cur_lat*np.pi/180\n",
    "    cur_long = cur_long*np.pi/180\n",
    "    dest_lat = dest_lat*np.pi/180\n",
    "    dest_long = dest_long*np.pi/180\n",
    "    return 60*180/np.pi*np.arccos(np.sin(cur_lat)*np.sin(dest_lat)+np.cos(cur_lat)*np.cos(dest_lat)*np.cos(dest_long-cur_long))\n",
    "\n",
    "def test_pandas():\n",
    "    # Returns ()\n",
    "    lat, lng = 43.56759421172615, 1.458735401391755\n",
    "    response = list(owl.default_world.sparql(\n",
    "        f\"\"\"\n",
    "        PREFIX pie:<http://www.semanticweb.org/clement/ontologies/2020/1/final-archi#>\n",
    "        SELECT ?Name ?ICAO ?lat ?long\n",
    "        WHERE {{\n",
    "            ?Airport pie:AirportICAOCode ?ICAO .\n",
    "            ?Airport pie:AirportName ?Name .\n",
    "            ?Airport pie:AirportGPSLongitude ?long .\n",
    "            ?Airport pie:AirportGPSLatitude ?lat .\n",
    "            }}\n",
    "        \"\"\"))\n",
    "\n",
    "    l = np.array(response)\n",
    "\n",
    "    df=  pd.DataFrame({\n",
    "        'name': l[:, 0],\n",
    "        'ICAO': l[:, 1],\n",
    "        'lat': l[:, 2],\n",
    "        'lng': l[:, 3],\n",
    "    })\n",
    "\n",
    "    df['lat'] = pd.to_numeric(df['lat'], downcast=\"float\")\n",
    "    df['lng'] = pd.to_numeric(df['lng'], downcast=\"float\")\n",
    "\n",
    "    df['distance'] = df.apply(lambda x: coord_to_dist(x[\"lat\"], x[\"lng\"], lat, lng), axis=1)\n",
    "    return df.iloc[df['distance'].idxmin()].to_dict()"
   ]
  },
  {
   "cell_type": "code",
   "execution_count": 14,
   "metadata": {},
   "outputs": [
    {
     "data": {
      "text/plain": [
       "{'name': 'Toulouse Blagnac Airport',\n",
       " 'ICAO': 'LFBO',\n",
       " 'lat': 43.635,\n",
       " 'lng': 1.367778,\n",
       " 'distance': 5.654606958403692}"
      ]
     },
     "execution_count": 14,
     "metadata": {},
     "output_type": "execute_result"
    }
   ],
   "source": [
    "test_pandas()"
   ]
  },
  {
   "cell_type": "markdown",
   "metadata": {},
   "source": [
    "## Database + Pandas"
   ]
  },
  {
   "cell_type": "code",
   "execution_count": 7,
   "metadata": {},
   "outputs": [],
   "source": [
    "from models import Airport"
   ]
  },
  {
   "cell_type": "code",
   "execution_count": 8,
   "metadata": {},
   "outputs": [],
   "source": [
    "def test_db():\n",
    "    lat, lng = 43.56759421172615, 1.458735401391755\n",
    "    data = Airport.query.with_entities(Airport.name, Airport.icao, Airport.latitude, Airport.longitude).all()\n",
    "    df = pd.DataFrame(data, columns=['name', 'ICAO', 'lat', 'lng'])\n",
    "    df['lat'] = pd.to_numeric(df['lat'], downcast=\"float\")\n",
    "    df['lng'] = pd.to_numeric(df['lng'], downcast=\"float\")\n",
    "\n",
    "    df['distance'] = df.apply(lambda x: coord_to_dist(x[\"lat\"], x[\"lng\"], lat, lng), axis=1)\n",
    "    return tuple(df.iloc[df['distance'].idxmin()])"
   ]
  },
  {
   "cell_type": "code",
   "execution_count": 9,
   "metadata": {},
   "outputs": [
    {
     "data": {
      "text/plain": [
       "('Toulouse Blagnac Airport', 'LFBO', 43.635, 1.367778, 5.654606958403692)"
      ]
     },
     "execution_count": 9,
     "metadata": {},
     "output_type": "execute_result"
    }
   ],
   "source": [
    "test_db()"
   ]
  },
  {
   "cell_type": "markdown",
   "metadata": {},
   "source": [
    "## Compare performance"
   ]
  },
  {
   "cell_type": "code",
   "execution_count": 10,
   "metadata": {},
   "outputs": [
    {
     "name": "stdout",
     "output_type": "stream",
     "text": [
      "1.95 s ± 159 ms per loop (mean ± std. dev. of 7 runs, 1 loop each)\n"
     ]
    }
   ],
   "source": [
    "%%timeit\n",
    "test_full_sparql()"
   ]
  },
  {
   "cell_type": "code",
   "execution_count": 11,
   "metadata": {},
   "outputs": [
    {
     "name": "stdout",
     "output_type": "stream",
     "text": [
      "400 ms ± 119 ms per loop (mean ± std. dev. of 7 runs, 1 loop each)\n"
     ]
    }
   ],
   "source": [
    "%%timeit\n",
    "test_pandas()"
   ]
  },
  {
   "cell_type": "code",
   "execution_count": 12,
   "metadata": {},
   "outputs": [
    {
     "name": "stdout",
     "output_type": "stream",
     "text": [
      "The slowest run took 7.09 times longer than the fastest. This could mean that an intermediate result is being cached.\n",
      "385 ms ± 301 ms per loop (mean ± std. dev. of 7 runs, 1 loop each)\n"
     ]
    }
   ],
   "source": [
    "%%timeit\n",
    "test_db()"
   ]
  }
 ],
 "metadata": {
  "interpreter": {
   "hash": "1baa965d5efe3ac65b79dfc60c0d706280b1da80fedb7760faf2759126c4f253"
  },
  "kernelspec": {
   "display_name": "Python 3.8.5 64-bit",
   "language": "python",
   "name": "python3"
  },
  "language_info": {
   "codemirror_mode": {
    "name": "ipython",
    "version": 3
   },
   "file_extension": ".py",
   "mimetype": "text/x-python",
   "name": "python",
   "nbconvert_exporter": "python",
   "pygments_lexer": "ipython3",
   "version": "3.8.5"
  },
  "orig_nbformat": 4
 },
 "nbformat": 4,
 "nbformat_minor": 2
}
