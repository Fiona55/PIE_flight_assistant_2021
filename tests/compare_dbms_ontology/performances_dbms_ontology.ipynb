{
 "cells": [
  {
   "cell_type": "markdown",
   "metadata": {},
   "source": [
    "# Comparison performances DBMS / Ontology"
   ]
  },
  {
   "cell_type": "markdown",
   "metadata": {},
   "source": [
    "## PostgreSQL"
   ]
  },
  {
   "cell_type": "code",
   "execution_count": 1,
   "metadata": {},
   "outputs": [
    {
     "name": "stdout",
     "output_type": "stream",
     "text": [
      "Wall time: 992 ms\n"
     ]
    }
   ],
   "source": [
    "%%time\n",
    "from models import Airport, Frequency"
   ]
  },
  {
   "cell_type": "code",
   "execution_count": 2,
   "metadata": {},
   "outputs": [],
   "source": [
    "def test_request_postgre():\n",
    "    s, n, w, e = 42.69998105639557, 44.49946827276767, 0.20684058124504337, 2.6917189331881017\n",
    "\n",
    "    # Query Airports\n",
    "    near_airports = Airport.query.filter( \\\n",
    "                    (Airport.longitude >= w) & (Airport.longitude <= e) & \\\n",
    "                    (Airport.latitude >= s) & (Airport.latitude <= n)) \\\n",
    "                        .with_entities(Airport.name, Airport.iata, Airport.icao, Airport.latitude, Airport.longitude, Airport.altitude, Airport.country)\\\n",
    "                        .all()\n",
    "    dict_airports_dbms = [r._asdict() for r in near_airports]\n",
    "\n",
    "    # Query Frequencies\n",
    "    for airport in dict_airports_dbms:\n",
    "        current_icao = airport['icao']\n",
    "        associated_frequencies = Frequency.query.filter(Frequency.airport == current_icao)\\\n",
    "                                    .with_entities(Frequency.frq_type, Frequency.desc, Frequency.frq_mhz)\\\n",
    "                                    .all()                              \n",
    "        airport['list_frequencies'] = [r._asdict() for r in associated_frequencies]\n",
    "    \n",
    "    return dict_airports_dbms"
   ]
  },
  {
   "cell_type": "code",
   "execution_count": 3,
   "metadata": {
    "scrolled": true
   },
   "outputs": [
    {
     "data": {
      "text/plain": [
       "[{'name': 'Agen La Garenne Airport',\n",
       "  'iata': 'AGF',\n",
       "  'icao': 'LFBA',\n",
       "  'latitude': 44.174709,\n",
       "  'longitude': 0.590619,\n",
       "  'altitude': 204.0,\n",
       "  'country': 'France',\n",
       "  'list_frequencies': [{'frq_type': 'APP',\n",
       "    'desc': 'BLAGNAC APP',\n",
       "    'frq_mhz': 121.1},\n",
       "   {'frq_type': 'APP', 'desc': 'TOULOUSE APP', 'frq_mhz': 121.175},\n",
       "   {'frq_type': 'ATIS', 'desc': 'ATIS', 'frq_mhz': 129.6},\n",
       "   {'frq_type': 'TWR', 'desc': 'AGEN TWR', 'frq_mhz': 121.3}]},\n",
       " {'name': 'Albi Le Sequestre Airport',\n",
       "  'iata': 'LBI',\n",
       "  'icao': 'LFCI',\n",
       "  'latitude': 43.913269,\n",
       "  'longitude': 2.11675,\n",
       "  'altitude': 564.0,\n",
       "  'country': 'France',\n",
       "  'list_frequencies': [{'frq_type': 'AFIS',\n",
       "    'desc': 'ALBI INFO',\n",
       "    'frq_mhz': 118.95},\n",
       "   {'frq_type': 'APP', 'desc': 'TOULOUSE APP', 'frq_mhz': 123.85}]},\n",
       " {'name': 'Carcassonne Airport',\n",
       "  'iata': 'CCF',\n",
       "  'icao': 'LFMK',\n",
       "  'latitude': 43.215809,\n",
       "  'longitude': 2.308544,\n",
       "  'altitude': 433.0,\n",
       "  'country': 'France',\n",
       "  'list_frequencies': [{'frq_type': 'APP',\n",
       "    'desc': 'TOULOUSE APP',\n",
       "    'frq_mhz': 123.85},\n",
       "   {'frq_type': 'ATIS', 'desc': 'ATIS', 'frq_mhz': 120.025},\n",
       "   {'frq_type': 'TWR', 'desc': 'CARCASSONNE TWR', 'frq_mhz': 121.0}]},\n",
       " {'name': 'Castres Mazamet Airport',\n",
       "  'iata': 'DCM',\n",
       "  'icao': 'LFCK',\n",
       "  'latitude': 43.554958,\n",
       "  'longitude': 2.290592,\n",
       "  'altitude': 787.0,\n",
       "  'country': 'France',\n",
       "  'list_frequencies': [{'frq_type': 'AFIS',\n",
       "    'desc': 'CASTRES INFO',\n",
       "    'frq_mhz': 118.5},\n",
       "   {'frq_type': 'APP', 'desc': 'TOULOUSE APP', 'frq_mhz': 123.85}]},\n",
       " {'name': 'Rodez Marcillac Airport',\n",
       "  'iata': 'RDZ',\n",
       "  'icao': 'LFCR',\n",
       "  'latitude': 44.407501,\n",
       "  'longitude': 2.483333,\n",
       "  'altitude': 1910.0,\n",
       "  'country': 'France',\n",
       "  'list_frequencies': [{'frq_type': 'APP',\n",
       "    'desc': 'RODEZ APP',\n",
       "    'frq_mhz': 125.375},\n",
       "   {'frq_type': 'TWR', 'desc': 'RODEZ TWR', 'frq_mhz': 118.125}]},\n",
       " {'name': 'Toulouse Blagnac Airport',\n",
       "  'iata': 'TLS',\n",
       "  'icao': 'LFBO',\n",
       "  'latitude': 43.634998,\n",
       "  'longitude': 1.367778,\n",
       "  'altitude': 499.0,\n",
       "  'country': 'France',\n",
       "  'list_frequencies': [{'frq_type': 'AFIS',\n",
       "    'desc': 'TOULOUSE INFO',\n",
       "    'frq_mhz': 121.25},\n",
       "   {'frq_type': 'APP', 'desc': 'APP', 'frq_mhz': 121.1},\n",
       "   {'frq_type': 'APP', 'desc': 'TOULOUSE APP', 'frq_mhz': 125.175},\n",
       "   {'frq_type': 'ATIS', 'desc': 'ATIS', 'frq_mhz': 123.125},\n",
       "   {'frq_type': 'CLD', 'desc': 'CLNC DEL', 'frq_mhz': 121.7},\n",
       "   {'frq_type': 'GND', 'desc': 'GND', 'frq_mhz': 121.9},\n",
       "   {'frq_type': 'TWR', 'desc': 'TWR', 'frq_mhz': 118.1}]}]"
      ]
     },
     "execution_count": 3,
     "metadata": {},
     "output_type": "execute_result"
    }
   ],
   "source": [
    "dict_airports_dbms = test_request_postgre()\n",
    "dict_airports_dbms"
   ]
  },
  {
   "cell_type": "markdown",
   "metadata": {},
   "source": [
    "## Ontology"
   ]
  },
  {
   "cell_type": "code",
   "execution_count": 4,
   "metadata": {},
   "outputs": [
    {
     "name": "stdout",
     "output_type": "stream",
     "text": [
      "Wall time: 6.93 s\n"
     ]
    }
   ],
   "source": [
    "%%time\n",
    "import owlready2 as owl\n",
    "filename_onto_individuals = \"../../src/ontology/final-archi-individuals.owl\"\n",
    "onto_individuals = owl.get_ontology(filename_onto_individuals).load()"
   ]
  },
  {
   "cell_type": "code",
   "execution_count": 5,
   "metadata": {},
   "outputs": [],
   "source": [
    "def test_ontolgy():\n",
    "    # Query Airports\n",
    "    s, n, w, e = 42.69998105639557, 44.49946827276767, 0.20684058124504337, 2.6917189331881017\n",
    "\n",
    "    near_airports = list(owl.default_world.sparql(\n",
    "        f\"\"\"\n",
    "            PREFIX pie:<http://www.semanticweb.org/clement/ontologies/2020/1/final-archi#>\n",
    "            SELECT ?name ?iata ?icao ?latitude ?longitude ?altitude ?country\n",
    "            WHERE {{\n",
    "                ?Airport pie:AirportName ?name .\n",
    "                ?Airport pie:AirportIATA ?iata .\n",
    "                ?Airport pie:AirportICAOCode ?icao .\n",
    "                ?Airport pie:AirportGPSLatitude ?latitude .\n",
    "                ?Airport pie:AirportGPSLongitude ?longitude .\n",
    "                ?Airport pie:AirportAltitude ?altitude .\n",
    "                ?Airport pie:AirportCountry ?country .\n",
    "                FILTER (?longitude > {w} && ?longitude < {e} \n",
    "                    &&  ?latitude > {s} && ?latitude < {n})\n",
    "\n",
    "            }}\n",
    "        \"\"\"))\n",
    "    fields = ['name', 'iata', 'icao', 'latitude', 'longitude', 'altitude', 'country']\n",
    "    dict_airports_onto = [dict(zip(fields, airport_tuple)) for airport_tuple in near_airports]\n",
    "\n",
    "    # Query Frequencies\n",
    "    for airport in dict_airports_onto:\n",
    "        current_icao = airport['icao']\n",
    "        associated_frequencies = list(owl.default_world.sparql(\n",
    "            f\"\"\"\n",
    "                PREFIX pie:<http://www.semanticweb.org/clement/ontologies/2020/1/final-archi#>\n",
    "                SELECT ?frq_type ?desc ?frq_mhz \n",
    "                WHERE {{\n",
    "                    ?Airport pie:AirportICAOCode ?ICAO .\n",
    "                    ?Airport pie:HasFrequency ?Frequency .\n",
    "                    ?Frequency pie:FrequencyDescription ?desc .\n",
    "                    ?Frequency pie:FrequencyMHz ?frq_mhz .\n",
    "                    ?Frequency pie:FrequencyType ?frq_type .\n",
    "                    FILTER regex(?ICAO, \"{current_icao}\", \"i\")\n",
    "\n",
    "                }}\n",
    "            \"\"\"))\n",
    "        fields = ['frq_type', 'desc', 'frq_mhz']\n",
    "        airport['list_frequencies'] = [dict(zip(fields, frq_tuple)) for frq_tuple in associated_frequencies]\n",
    "    \n",
    "    return dict_airports_onto"
   ]
  },
  {
   "cell_type": "code",
   "execution_count": 6,
   "metadata": {
    "scrolled": true
   },
   "outputs": [
    {
     "data": {
      "text/plain": [
       "[{'name': 'Carcassonne Airport',\n",
       "  'iata': 'CCF',\n",
       "  'icao': 'LFMK',\n",
       "  'latitude': 43.215809,\n",
       "  'longitude': 2.308544,\n",
       "  'altitude': 433,\n",
       "  'country': 'France',\n",
       "  'list_frequencies': [{'frq_type': 'APP',\n",
       "    'desc': 'TOULOUSE APP',\n",
       "    'frq_mhz': 123.85},\n",
       "   {'frq_type': 'ATIS', 'desc': 'ATIS', 'frq_mhz': 120.025},\n",
       "   {'frq_type': 'TWR', 'desc': 'CARCASSONNE TWR', 'frq_mhz': 121.0}]},\n",
       " {'name': 'Castres Mazamet Airport',\n",
       "  'iata': 'DCM',\n",
       "  'icao': 'LFCK',\n",
       "  'latitude': 43.554958,\n",
       "  'longitude': 2.290592,\n",
       "  'altitude': 787,\n",
       "  'country': 'France',\n",
       "  'list_frequencies': [{'frq_type': 'AFIS',\n",
       "    'desc': 'CASTRES INFO',\n",
       "    'frq_mhz': 118.5},\n",
       "   {'frq_type': 'APP', 'desc': 'TOULOUSE APP', 'frq_mhz': 123.85}]},\n",
       " {'name': 'Toulouse Blagnac Airport',\n",
       "  'iata': 'TLS',\n",
       "  'icao': 'LFBO',\n",
       "  'latitude': 43.634998,\n",
       "  'longitude': 1.367778,\n",
       "  'altitude': 499,\n",
       "  'country': 'France',\n",
       "  'list_frequencies': [{'frq_type': 'AFIS',\n",
       "    'desc': 'TOULOUSE INFO',\n",
       "    'frq_mhz': 121.25},\n",
       "   {'frq_type': 'APP', 'desc': 'APP', 'frq_mhz': 121.1},\n",
       "   {'frq_type': 'APP', 'desc': 'TOULOUSE APP', 'frq_mhz': 125.175},\n",
       "   {'frq_type': 'ATIS', 'desc': 'ATIS', 'frq_mhz': 123.125},\n",
       "   {'frq_type': 'CLD', 'desc': 'CLNC DEL', 'frq_mhz': 121.7},\n",
       "   {'frq_type': 'GND', 'desc': 'GND', 'frq_mhz': 121.9},\n",
       "   {'frq_type': 'TWR', 'desc': 'TWR', 'frq_mhz': 118.1}]},\n",
       " {'name': 'Albi Le Sequestre Airport',\n",
       "  'iata': 'LBI',\n",
       "  'icao': 'LFCI',\n",
       "  'latitude': 43.913269,\n",
       "  'longitude': 2.11675,\n",
       "  'altitude': 564,\n",
       "  'country': 'France',\n",
       "  'list_frequencies': [{'frq_type': 'AFIS',\n",
       "    'desc': 'ALBI INFO',\n",
       "    'frq_mhz': 118.95},\n",
       "   {'frq_type': 'APP', 'desc': 'TOULOUSE APP', 'frq_mhz': 123.85}]},\n",
       " {'name': 'Agen La Garenne Airport',\n",
       "  'iata': 'AGF',\n",
       "  'icao': 'LFBA',\n",
       "  'latitude': 44.174709,\n",
       "  'longitude': 0.590619,\n",
       "  'altitude': 204,\n",
       "  'country': 'France',\n",
       "  'list_frequencies': [{'frq_type': 'APP',\n",
       "    'desc': 'BLAGNAC APP',\n",
       "    'frq_mhz': 121.1},\n",
       "   {'frq_type': 'APP', 'desc': 'TOULOUSE APP', 'frq_mhz': 121.175},\n",
       "   {'frq_type': 'ATIS', 'desc': 'ATIS', 'frq_mhz': 129.6},\n",
       "   {'frq_type': 'TWR', 'desc': 'AGEN TWR', 'frq_mhz': 121.3}]},\n",
       " {'name': 'Rodez Marcillac Airport',\n",
       "  'iata': 'RDZ',\n",
       "  'icao': 'LFCR',\n",
       "  'latitude': 44.407501,\n",
       "  'longitude': 2.483333,\n",
       "  'altitude': 1910,\n",
       "  'country': 'France',\n",
       "  'list_frequencies': [{'frq_type': 'APP',\n",
       "    'desc': 'RODEZ APP',\n",
       "    'frq_mhz': 125.375},\n",
       "   {'frq_type': 'TWR', 'desc': 'RODEZ TWR', 'frq_mhz': 118.125}]}]"
      ]
     },
     "execution_count": 6,
     "metadata": {},
     "output_type": "execute_result"
    }
   ],
   "source": [
    "dict_airports_onto = test_ontolgy()\n",
    "dict_airports_onto"
   ]
  },
  {
   "cell_type": "markdown",
   "metadata": {},
   "source": [
    "## Compare performances"
   ]
  },
  {
   "cell_type": "code",
   "execution_count": 7,
   "metadata": {},
   "outputs": [
    {
     "data": {
      "text/plain": [
       "True"
      ]
     },
     "execution_count": 7,
     "metadata": {},
     "output_type": "execute_result"
    }
   ],
   "source": [
    "onto_list = sorted(dict_airports_onto, key=lambda x: x['name'])\n",
    "dbms_list = sorted(dict_airports_dbms, key=lambda x: x['name'])\n",
    "onto_list == dbms_list"
   ]
  },
  {
   "cell_type": "code",
   "execution_count": 8,
   "metadata": {},
   "outputs": [
    {
     "name": "stdout",
     "output_type": "stream",
     "text": [
      "18 ms ± 2.46 ms per loop (mean ± std. dev. of 7 runs, 100 loops each)\n"
     ]
    }
   ],
   "source": [
    "%%timeit\n",
    "test_request_postgre()"
   ]
  },
  {
   "cell_type": "code",
   "execution_count": 9,
   "metadata": {},
   "outputs": [
    {
     "name": "stdout",
     "output_type": "stream",
     "text": [
      "1.29 s ± 162 ms per loop (mean ± std. dev. of 7 runs, 1 loop each)\n"
     ]
    }
   ],
   "source": [
    "%%timeit\n",
    "test_ontolgy()"
   ]
  },
  {
   "cell_type": "code",
   "execution_count": null,
   "metadata": {},
   "outputs": [],
   "source": []
  }
 ],
 "metadata": {
  "kernelspec": {
   "display_name": "Python 3",
   "language": "python",
   "name": "python3"
  },
  "language_info": {
   "codemirror_mode": {
    "name": "ipython",
    "version": 3
   },
   "file_extension": ".py",
   "mimetype": "text/x-python",
   "name": "python",
   "nbconvert_exporter": "python",
   "pygments_lexer": "ipython3",
   "version": "3.8.5"
  },
  "toc": {
   "base_numbering": 1,
   "nav_menu": {},
   "number_sections": false,
   "sideBar": true,
   "skip_h1_title": false,
   "title_cell": "Table of Contents",
   "title_sidebar": "Contents",
   "toc_cell": false,
   "toc_position": {},
   "toc_section_display": true,
   "toc_window_display": false
  }
 },
 "nbformat": 4,
 "nbformat_minor": 4
}
